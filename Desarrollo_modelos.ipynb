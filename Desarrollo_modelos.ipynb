{
 "cells": [
  {
   "cell_type": "markdown",
   "id": "46de0bec-cfea-4325-9f1c-f337bf29765e",
   "metadata": {},
   "source": [
    "# Detector de imagenes (Fumadores)"
   ]
  },
  {
   "cell_type": "markdown",
   "id": "7e7acddd-9130-4d24-bc44-00dd823bdbbb",
   "metadata": {},
   "source": [
    "## Importación del dataset"
   ]
  },
  {
   "cell_type": "code",
   "execution_count": 1,
   "id": "c7683d6f",
   "metadata": {},
   "outputs": [
    {
     "name": "stderr",
     "output_type": "stream",
     "text": [
      "\"apt-get\" no se reconoce como un comando interno o externo,\n",
      "programa o archivo por lotes ejecutable.\n"
     ]
    },
    {
     "name": "stdout",
     "output_type": "stream",
     "text": [
      "Requirement already satisfied: rarfile in c:\\users\\vdima\\appdata\\local\\programs\\python\\python313\\lib\\site-packages (4.2)\n"
     ]
    },
    {
     "name": "stderr",
     "output_type": "stream",
     "text": [
      "\n",
      "[notice] A new release of pip is available: 24.2 -> 25.0.1\n",
      "[notice] To update, run: python.exe -m pip install --upgrade pip\n"
     ]
    }
   ],
   "source": [
    "!apt-get install unrar\n",
    "!pip install rarfile"
   ]
  },
  {
   "cell_type": "code",
   "execution_count": 2,
   "id": "87f040e1-2a7b-4720-9aef-8c071948ff8c",
   "metadata": {},
   "outputs": [
    {
     "name": "stderr",
     "output_type": "stream",
     "text": [
      "\"wget\" no se reconoce como un comando interno o externo,\n",
      "programa o archivo por lotes ejecutable.\n"
     ]
    },
    {
     "ename": "FileNotFoundError",
     "evalue": "[Errno 2] No such file or directory: '/content/dataset.rar'",
     "output_type": "error",
     "traceback": [
      "\u001b[1;31m---------------------------------------------------------------------------\u001b[0m",
      "\u001b[1;31mFileNotFoundError\u001b[0m                         Traceback (most recent call last)",
      "Cell \u001b[1;32mIn[2], line 9\u001b[0m\n\u001b[0;32m      6\u001b[0m rar_path \u001b[38;5;241m=\u001b[39m \u001b[38;5;124m\"\u001b[39m\u001b[38;5;124m/content/dataset.rar\u001b[39m\u001b[38;5;124m\"\u001b[39m  \u001b[38;5;66;03m# Ruta del archivo RAR\u001b[39;00m\n\u001b[0;32m      7\u001b[0m extract_path \u001b[38;5;241m=\u001b[39m \u001b[38;5;124m\"\u001b[39m\u001b[38;5;124mdataset\u001b[39m\u001b[38;5;124m\"\u001b[39m  \u001b[38;5;66;03m# Carpeta de salida\u001b[39;00m\n\u001b[1;32m----> 9\u001b[0m \u001b[38;5;28;01mwith\u001b[39;00m \u001b[43mrarfile\u001b[49m\u001b[38;5;241;43m.\u001b[39;49m\u001b[43mRarFile\u001b[49m\u001b[43m(\u001b[49m\u001b[43mrar_path\u001b[49m\u001b[43m)\u001b[49m \u001b[38;5;28;01mas\u001b[39;00m rar_ref:\n\u001b[0;32m     10\u001b[0m     rar_ref\u001b[38;5;241m.\u001b[39mextractall(extract_path)\n\u001b[0;32m     12\u001b[0m \u001b[38;5;28mprint\u001b[39m(\u001b[38;5;124m\"\u001b[39m\u001b[38;5;124mArchivo descomprimido correctamente.\u001b[39m\u001b[38;5;124m\"\u001b[39m)\n",
      "File \u001b[1;32mc:\\Users\\vdima\\AppData\\Local\\Programs\\Python\\Python313\\Lib\\site-packages\\rarfile.py:711\u001b[0m, in \u001b[0;36mRarFile.__init__\u001b[1;34m(self, file, mode, charset, info_callback, crc_check, errors, part_only)\u001b[0m\n\u001b[0;32m    708\u001b[0m \u001b[38;5;28;01mif\u001b[39;00m mode \u001b[38;5;241m!=\u001b[39m \u001b[38;5;124m\"\u001b[39m\u001b[38;5;124mr\u001b[39m\u001b[38;5;124m\"\u001b[39m:\n\u001b[0;32m    709\u001b[0m     \u001b[38;5;28;01mraise\u001b[39;00m \u001b[38;5;167;01mNotImplementedError\u001b[39;00m(\u001b[38;5;124m\"\u001b[39m\u001b[38;5;124mRarFile supports only mode=r\u001b[39m\u001b[38;5;124m\"\u001b[39m)\n\u001b[1;32m--> 711\u001b[0m \u001b[38;5;28;43mself\u001b[39;49m\u001b[38;5;241;43m.\u001b[39;49m\u001b[43m_parse\u001b[49m\u001b[43m(\u001b[49m\u001b[43m)\u001b[49m\n",
      "File \u001b[1;32mc:\\Users\\vdima\\AppData\\Local\\Programs\\Python\\Python313\\Lib\\site-packages\\rarfile.py:918\u001b[0m, in \u001b[0;36mRarFile._parse\u001b[1;34m(self)\u001b[0m\n\u001b[0;32m    915\u001b[0m \u001b[38;5;28;01mdef\u001b[39;00m \u001b[38;5;21m_parse\u001b[39m(\u001b[38;5;28mself\u001b[39m):\n\u001b[0;32m    916\u001b[0m \u001b[38;5;250m    \u001b[39m\u001b[38;5;124;03m\"\"\"Run parser for file type\u001b[39;00m\n\u001b[0;32m    917\u001b[0m \u001b[38;5;124;03m    \"\"\"\u001b[39;00m\n\u001b[1;32m--> 918\u001b[0m     ver, sfx_ofs \u001b[38;5;241m=\u001b[39m \u001b[43m_find_sfx_header\u001b[49m\u001b[43m(\u001b[49m\u001b[38;5;28;43mself\u001b[39;49m\u001b[38;5;241;43m.\u001b[39;49m\u001b[43m_rarfile\u001b[49m\u001b[43m)\u001b[49m\n\u001b[0;32m    919\u001b[0m     \u001b[38;5;28;01mif\u001b[39;00m ver \u001b[38;5;241m==\u001b[39m RAR_V3:\n\u001b[0;32m    920\u001b[0m         p3 \u001b[38;5;241m=\u001b[39m RAR3Parser(\u001b[38;5;28mself\u001b[39m\u001b[38;5;241m.\u001b[39m_rarfile, \u001b[38;5;28mself\u001b[39m\u001b[38;5;241m.\u001b[39m_password, \u001b[38;5;28mself\u001b[39m\u001b[38;5;241m.\u001b[39m_crc_check,\n\u001b[0;32m    921\u001b[0m                         \u001b[38;5;28mself\u001b[39m\u001b[38;5;241m.\u001b[39m_charset, \u001b[38;5;28mself\u001b[39m\u001b[38;5;241m.\u001b[39m_strict, \u001b[38;5;28mself\u001b[39m\u001b[38;5;241m.\u001b[39m_info_callback,\n\u001b[0;32m    922\u001b[0m                         sfx_ofs, \u001b[38;5;28mself\u001b[39m\u001b[38;5;241m.\u001b[39m_part_only)\n",
      "File \u001b[1;32mc:\\Users\\vdima\\AppData\\Local\\Programs\\Python\\Python313\\Lib\\site-packages\\rarfile.py:320\u001b[0m, in \u001b[0;36m_find_sfx_header\u001b[1;34m(xfile)\u001b[0m\n\u001b[0;32m    317\u001b[0m buf \u001b[38;5;241m=\u001b[39m io\u001b[38;5;241m.\u001b[39mBytesIO()\n\u001b[0;32m    318\u001b[0m steps \u001b[38;5;241m=\u001b[39m (\u001b[38;5;241m64\u001b[39m, SFX_MAX_SIZE)\n\u001b[1;32m--> 320\u001b[0m \u001b[38;5;28;01mwith\u001b[39;00m \u001b[43mXFile\u001b[49m\u001b[43m(\u001b[49m\u001b[43mxfile\u001b[49m\u001b[43m)\u001b[49m \u001b[38;5;28;01mas\u001b[39;00m fd:\n\u001b[0;32m    321\u001b[0m     \u001b[38;5;28;01mfor\u001b[39;00m step \u001b[38;5;129;01min\u001b[39;00m steps:\n\u001b[0;32m    322\u001b[0m         data \u001b[38;5;241m=\u001b[39m fd\u001b[38;5;241m.\u001b[39mread(step)\n",
      "File \u001b[1;32mc:\\Users\\vdima\\AppData\\Local\\Programs\\Python\\Python313\\Lib\\site-packages\\rarfile.py:2694\u001b[0m, in \u001b[0;36mXFile.__init__\u001b[1;34m(self, xfile, bufsize)\u001b[0m\n\u001b[0;32m   2692\u001b[0m \u001b[38;5;28;01melse\u001b[39;00m:\n\u001b[0;32m   2693\u001b[0m     \u001b[38;5;28mself\u001b[39m\u001b[38;5;241m.\u001b[39m_need_close \u001b[38;5;241m=\u001b[39m \u001b[38;5;28;01mTrue\u001b[39;00m\n\u001b[1;32m-> 2694\u001b[0m     \u001b[38;5;28mself\u001b[39m\u001b[38;5;241m.\u001b[39m_fd \u001b[38;5;241m=\u001b[39m \u001b[38;5;28;43mopen\u001b[39;49m\u001b[43m(\u001b[49m\u001b[43mxfile\u001b[49m\u001b[43m,\u001b[49m\u001b[43m \u001b[49m\u001b[38;5;124;43m\"\u001b[39;49m\u001b[38;5;124;43mrb\u001b[39;49m\u001b[38;5;124;43m\"\u001b[39;49m\u001b[43m,\u001b[49m\u001b[43m \u001b[49m\u001b[43mbufsize\u001b[49m\u001b[43m)\u001b[49m\n",
      "\u001b[1;31mFileNotFoundError\u001b[0m: [Errno 2] No such file or directory: '/content/dataset.rar'"
     ]
    }
   ],
   "source": [
    "import rarfile\n",
    "\n",
    "rarfile.UNRAR_TOOL = \"/usr/bin/unrar\"\n",
    "!wget https://github.com/repositoriosHackaton/SIC25es-Remember-Us-Recuerdanos-/raw/refs/heads/main/recursos/dataset.rar\n",
    "\n",
    "rar_path = \"/content/dataset.rar\"  # Ruta del archivo RAR\n",
    "extract_path = \"dataset\"  # Carpeta de salida\n",
    "\n",
    "with rarfile.RarFile(rar_path) as rar_ref:\n",
    "    rar_ref.extractall(extract_path)\n",
    "\n",
    "print(\"Archivo descomprimido correctamente.\")"
   ]
  },
  {
   "cell_type": "markdown",
   "id": "f8dd5744-c4c5-4783-868f-d974aea7d221",
   "metadata": {},
   "source": [
    "## Entrenamiento de modelos"
   ]
  },
  {
   "cell_type": "markdown",
   "id": "0440ec21",
   "metadata": {},
   "source": [
    "### SVC - Sklearn"
   ]
  },
  {
   "cell_type": "code",
   "execution_count": null,
   "id": "b96c30df",
   "metadata": {},
   "outputs": [],
   "source": [
    "from sklearn.model_selection import StratifiedKFold, GridSearchCV, KFold, cross_val_score\n",
    "from sklearn.preprocessing import StandardScaler\n",
    "from sklearn.metrics import accuracy_score\n",
    "from sklearn.decomposition import PCA\n",
    "from sklearn.svm import SVC\n",
    "from PIL import Image\n",
    "import numpy as np\n",
    "import os"
   ]
  },
  {
   "cell_type": "markdown",
   "id": "91cc9d82",
   "metadata": {},
   "source": [
    "#### Tratamiento de datos"
   ]
  },
  {
   "cell_type": "code",
   "execution_count": null,
   "id": "225f1f92",
   "metadata": {},
   "outputs": [],
   "source": [
    "# Función para cargar las imagenes desde el folder y almacenarlas en forma de vector númerico, junto con otro array con su clasificación\n",
    "def svc_loadImages(folder):\n",
    "    images = []\n",
    "    labels = []\n",
    "    for filename in os.listdir(folder):\n",
    "        img = Image.open(os.path.join(folder, filename)).convert(\"L\")\n",
    "        img = img.resize((250,250))\n",
    "        img_array = np.array(img).flatten()\n",
    "        images.append(img_array)\n",
    "        label = 0 if \"notsmoking\" in filename else 1 # Si el nombre de la imagen es 'notsmoking' colocar 0, caso contrario 1\n",
    "        labels.append(label)\n",
    "    return np.array(images), np.array(labels)"
   ]
  },
  {
   "cell_type": "code",
   "execution_count": null,
   "id": "f2afe626",
   "metadata": {},
   "outputs": [],
   "source": [
    "#Separacion imagenes train y test\n",
    "scv_Xtrain, svc_ytrain = svc_loadImages(\"dataset/dataset/Training\")\n",
    "svc_Xval, svc_yval = svc_loadImages(\"dataset/dataset/Validation\")\n",
    "svc_Xtest, svc_ytest = svc_loadImages(\"dataset/dataset/Testing\")\n",
    "\n",
    "print(f\"Datos de entrenamiento: {len(scv_Xtrain)}\\tPorcentaje: {(len(scv_Xtrain)*100/1120):.2f}\")\n",
    "print(f\"Datos de validación: {len(svc_Xval)}\\tPorcentaje: {(len(svc_Xval)*100/1120):.2f}\")\n",
    "print(f\"Datos de prueba: {len(svc_Xtest)}\\t\\tPorcentaje: {(len(svc_Xtest)*100/1120):.2f}\")\n",
    "\n",
    "\n",
    "#Escalado de imagenes con StandarScaler\n",
    "scaler = StandardScaler()\n",
    "\n",
    "scv_Xtrain_st = scaler.fit_transform(scv_Xtrain)\n",
    "scv_Xval_st = scaler.transform(svc_Xval)\n",
    "scv_Xtest_st = scaler.transform(svc_Xtest)\n",
    "\n",
    "scv_Xtrain[:2], scv_Xtrain_st[:2]\n",
    "\n",
    "\n",
    "#Reducir dimensionalidad con PCA a 90 componentes (componentes originales = 250)\n",
    "pca = PCA(n_components=90)\n",
    "\n",
    "scv_Xtrain_pca = pca.fit_transform(scv_Xtrain_st)\n",
    "scv_Xval_pca = pca.transform(scv_Xval_st)\n",
    "scv_Xtest_pca = pca.transform(scv_Xtest_st)"
   ]
  },
  {
   "cell_type": "markdown",
   "id": "8752c327",
   "metadata": {},
   "source": [
    "#### Entrenamiento del modelo svc"
   ]
  },
  {
   "cell_type": "code",
   "execution_count": null,
   "id": "7c1ce007",
   "metadata": {},
   "outputs": [],
   "source": []
  },
  {
   "cell_type": "code",
   "execution_count": null,
   "id": "64759500",
   "metadata": {},
   "outputs": [],
   "source": []
  },
  {
   "cell_type": "markdown",
   "id": "40f80d26",
   "metadata": {},
   "source": [
    "#### Exportación de recursos (modelo, scaler, etc)"
   ]
  },
  {
   "cell_type": "code",
   "execution_count": null,
   "id": "5815dac5",
   "metadata": {},
   "outputs": [],
   "source": [
    "# Código"
   ]
  },
  {
   "cell_type": "markdown",
   "id": "09a7ca25",
   "metadata": {},
   "source": [
    "### MobileNetV2 (CNN) (keras)"
   ]
  },
  {
   "cell_type": "code",
   "execution_count": null,
   "id": "d6497b51",
   "metadata": {},
   "outputs": [],
   "source": [
    "#algunas importaciones\n",
    "import tensorflow as tf\n",
    "from tensorflow import keras\n",
    "from tensorflow.keras.preprocessing.image import ImageDataGenerator"
   ]
  },
  {
   "cell_type": "markdown",
   "id": "5287521c",
   "metadata": {},
   "source": [
    "Pre-procesamiento de la data"
   ]
  },
  {
   "cell_type": "code",
   "execution_count": null,
   "id": "24bae4b0",
   "metadata": {},
   "outputs": [],
   "source": [
    "#en construcion#####\n",
    "datadir = \"/content/dataset/dataset/Training\"\n",
    "imgsize = (250,250)\n",
    "batchsize = (32)\n",
    "\n",
    "datagen = ImageDataGenerator(rescale= 1/255, validation_split=0.2)\n",
    "\n",
    "train_data = datagen.flow_from_directory(data_dir,target_size=img_size,\n",
    "                                         batch_size=batch_size,class_mode='binary',subset='training')\n",
    "val_data = datagen.flow_from_directory(data_dir,target_size=img_size,\n",
    "                                       batch_size=batch_size,class_mode='binary',subset='validation')\n"
   ]
  },
  {
   "cell_type": "markdown",
   "id": "12191fb7",
   "metadata": {},
   "source": [
    "Instanciación del modelo (preentrenado)"
   ]
  },
  {
   "cell_type": "code",
   "execution_count": null,
   "id": "159d71b6",
   "metadata": {},
   "outputs": [],
   "source": [
    "mnet = keras.applications.MobileNetV2(input_shape=(224, 224, 3), include_top=False, weights='imagenet')\n",
    "base_model.trainable = False"
   ]
  }
 ],
 "metadata": {
  "kernelspec": {
   "display_name": "Python 3",
   "language": "python",
   "name": "python3"
  },
  "language_info": {
   "codemirror_mode": {
    "name": "ipython",
    "version": 3
   },
   "file_extension": ".py",
   "mimetype": "text/x-python",
   "name": "python",
   "nbconvert_exporter": "python",
   "pygments_lexer": "ipython3",
   "version": "3.13.0"
  }
 },
 "nbformat": 4,
 "nbformat_minor": 5
}
