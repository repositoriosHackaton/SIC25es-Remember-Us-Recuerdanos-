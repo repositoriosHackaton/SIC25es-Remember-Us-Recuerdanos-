{
 "cells": [
  {
   "cell_type": "markdown",
   "id": "46de0bec-cfea-4325-9f1c-f337bf29765e",
   "metadata": {},
   "source": [
    "# Detector de imagenes (Fumadores)"
   ]
  },
  {
   "cell_type": "markdown",
   "id": "7e7acddd-9130-4d24-bc44-00dd823bdbbb",
   "metadata": {},
   "source": [
    "## Importación del dataset"
   ]
  },
  {
   "cell_type": "code",
   "execution_count": 1,
   "id": "87f040e1-2a7b-4720-9aef-8c071948ff8c",
   "metadata": {},
   "outputs": [],
   "source": [
    "# Código"
   ]
  },
  {
   "cell_type": "markdown",
   "id": "f8dd5744-c4c5-4783-868f-d974aea7d221",
   "metadata": {},
   "source": [
    "## Entrenamiento de modelos"
   ]
  },
  {
   "cell_type": "markdown",
   "id": "57b8e982-fb58-4312-bec6-9b2bbf23214e",
   "metadata": {},
   "source": [
    "### SVC - Sklearn"
   ]
  },
  {
   "cell_type": "code",
   "execution_count": 5,
   "id": "308b550c-b1cd-43c6-9dc6-bcc781635d52",
   "metadata": {},
   "outputs": [],
   "source": [
    "# Importaciones necesarias"
   ]
  },
  {
   "cell_type": "markdown",
   "id": "b9194ab9-cad9-4f73-b7da-58adf9708ae9",
   "metadata": {},
   "source": [
    "#### Tratamiento de datos"
   ]
  },
  {
   "cell_type": "code",
   "execution_count": 2,
   "id": "aa118a1b-94d4-4d2a-8878-c544fcf677bf",
   "metadata": {},
   "outputs": [],
   "source": [
    "# Código"
   ]
  },
  {
   "cell_type": "markdown",
   "id": "107626a8-37a8-4334-b5d6-4d52655e1332",
   "metadata": {},
   "source": [
    "#### Entrenamiento del modelo svc"
   ]
  },
  {
   "cell_type": "code",
   "execution_count": 3,
   "id": "52bcb3f6-1703-4b6d-b58e-f62ee153ddfa",
   "metadata": {},
   "outputs": [],
   "source": [
    "# Código"
   ]
  },
  {
   "cell_type": "markdown",
   "id": "4db1736f-e8e9-40e9-ba1e-7b35a1236854",
   "metadata": {},
   "source": [
    "#### Exportación de recursos (modelo, scaler, etc)"
   ]
  },
  {
   "cell_type": "code",
   "execution_count": 4,
   "id": "82fb38fd-43ed-4b01-995e-1bb254b82040",
   "metadata": {},
   "outputs": [],
   "source": [
    "# Código"
   ]
  },
  {
   "cell_type": "code",
   "execution_count": null,
   "id": "1b7e0607-c368-4126-afd4-df50b8b5f34e",
   "metadata": {},
   "outputs": [],
   "source": []
  }
 ],
 "metadata": {
  "kernelspec": {
   "display_name": "Python 3 (ipykernel)",
   "language": "python",
   "name": "python3"
  },
  "language_info": {
   "codemirror_mode": {
    "name": "ipython",
    "version": 3
   },
   "file_extension": ".py",
   "mimetype": "text/x-python",
   "name": "python",
   "nbconvert_exporter": "python",
   "pygments_lexer": "ipython3",
   "version": "3.12.7"
  }
 },
 "nbformat": 4,
 "nbformat_minor": 5
}
