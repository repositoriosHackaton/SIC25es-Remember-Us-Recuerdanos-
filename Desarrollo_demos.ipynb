{
 "cells": [
  {
   "cell_type": "markdown",
   "id": "0ed90cb7-2841-47f4-85c5-6ea3e8d56dcc",
   "metadata": {},
   "source": [
    "# Detector de imagenes (Fumadores)"
   ]
  },
  {
   "cell_type": "markdown",
   "id": "3177f7bc-17ac-4368-b02a-72e27278800a",
   "metadata": {},
   "source": [
    "## Importaciones"
   ]
  },
  {
   "cell_type": "markdown",
   "id": "420afebe-8b79-4355-b2a9-57e7b00b92bd",
   "metadata": {},
   "source": [
    "### Importación de dataset"
   ]
  },
  {
   "cell_type": "code",
   "execution_count": 1,
   "id": "fc34dcd6-fde2-4319-a924-e3785a8c9f30",
   "metadata": {},
   "outputs": [],
   "source": [
    "# Código"
   ]
  },
  {
   "cell_type": "markdown",
   "id": "3732b64c-e732-4e74-b503-242778763524",
   "metadata": {},
   "source": [
    "### Importación de recursos"
   ]
  },
  {
   "cell_type": "code",
   "execution_count": 2,
   "id": "0a20edc1-08f1-42da-8e94-82d1306dfdc4",
   "metadata": {},
   "outputs": [],
   "source": [
    "# Código"
   ]
  },
  {
   "cell_type": "markdown",
   "id": "a6aece6b-938d-40f2-8a0f-5ed7bc65d074",
   "metadata": {},
   "source": [
    "## Uso de modelos"
   ]
  },
  {
   "cell_type": "markdown",
   "id": "6edaa95c-4127-4f31-9598-9e289455f630",
   "metadata": {},
   "source": [
    "### SVC - Sklearn"
   ]
  },
  {
   "cell_type": "code",
   "execution_count": 3,
   "id": "081d5ee9-6b6c-4225-bfd4-23745fb18cdf",
   "metadata": {},
   "outputs": [],
   "source": [
    "# Código"
   ]
  },
  {
   "cell_type": "code",
   "execution_count": null,
   "id": "10520a39-f073-4b1c-b87e-dedd90f7f69b",
   "metadata": {},
   "outputs": [],
   "source": []
  }
 ],
 "metadata": {
  "kernelspec": {
   "display_name": "Python 3 (ipykernel)",
   "language": "python",
   "name": "python3"
  },
  "language_info": {
   "codemirror_mode": {
    "name": "ipython",
    "version": 3
   },
   "file_extension": ".py",
   "mimetype": "text/x-python",
   "name": "python",
   "nbconvert_exporter": "python",
   "pygments_lexer": "ipython3",
   "version": "3.12.7"
  }
 },
 "nbformat": 4,
 "nbformat_minor": 5
}
