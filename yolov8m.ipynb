{
  "nbformat": 4,
  "nbformat_minor": 0,
  "metadata": {
    "colab": {
      "provenance": []
    },
    "kernelspec": {
      "name": "python3",
      "display_name": "Python 3"
    },
    "language_info": {
      "name": "python"
    }
  },
  "cells": [
    {
      "cell_type": "code",
      "execution_count": null,
      "metadata": {
        "id": "2hgnBCQHRQnD"
      },
      "outputs": [],
      "source": [
        "# Debo instalar manualmente estos packetes porque estoy en el entorno de colab\n",
        "\n",
        "!apt-get install unrar\n",
        "!pip install rarfile ultralytics opencv-python"
      ]
    },
    {
      "cell_type": "code",
      "source": [
        "import rarfile\n",
        "\n",
        "# Al parecer, se necesita especificar la ruta del ejecutable unrar\n",
        "rarfile.UNRAR_TOOL = \"/usr/bin/unrar\""
      ],
      "metadata": {
        "id": "WyG97y-URZWd"
      },
      "execution_count": null,
      "outputs": []
    },
    {
      "cell_type": "code",
      "source": [
        "rar_path = \"smokersYolo.rar\"  # Ruta del archivo RAR\n",
        "extract_path = \"\"  # Carpeta de salida\n",
        "\n",
        "with rarfile.RarFile(rar_path) as rar_ref:\n",
        "    rar_ref.extractall(extract_path)\n",
        "\n",
        "print(\"Archivo descomprimido correctamente.\")"
      ],
      "metadata": {
        "id": "nJgZWaMXRdPh"
      },
      "execution_count": null,
      "outputs": []
    },
    {
      "cell_type": "code",
      "source": [
        "from ultralytics import YOLO\n",
        "\n",
        "# Cargar un modelo preentrenado (base)\n",
        "model = YOLO(\"yolov8m.pt\")  # Puedes elegir entre diferentes tamaños: 'n', 's', 'm', 'l', 'x'\n",
        "\n",
        "# Entrenar el modelo con tu conjunto de datos\n",
        "model.train(\n",
        "    data=\"/content/smokersYolo/data.yaml\",  # Archivo YAML con la configuración del dataset\n",
        "    epochs=100,                      # Número de épocas\n",
        "    batch=16,                       # Tamaño del lote\n",
        "    imgsz=250,                      # Tamaño de la imagen\n",
        "    device=\"cuda\"                    # Usa \"cuda\" si tienes GPU\n",
        ")"
      ],
      "metadata": {
        "id": "dzQnFGAyRtKp"
      },
      "execution_count": null,
      "outputs": []
    }
  ]
}